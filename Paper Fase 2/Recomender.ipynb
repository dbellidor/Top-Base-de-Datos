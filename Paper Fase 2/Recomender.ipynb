{
 "cells": [
  {
   "cell_type": "code",
   "execution_count": 1,
   "metadata": {},
   "outputs": [],
   "source": [
    "import pyspark \n",
    "from pyspark.context import SparkContext\n",
    "from pyspark.sql import HiveContext\n",
    "from pyspark.sql import SparkSession\n",
    "\n",
    "sc = SparkContext('local', 'pyspark')\n",
    "sqlContext = HiveContext(sc)\n",
    "spark = SparkSession.builder.getOrCreate()\n",
    "\n"
   ]
  },
  {
   "cell_type": "code",
   "execution_count": 2,
   "metadata": {},
   "outputs": [
    {
     "data": {
      "text/plain": [
       "[Row(movieId='1', title='Toy Story (1995)', genres='Adventure|Animation|Children|Comedy|Fantasy'),\n",
       " Row(movieId='2', title='Jumanji (1995)', genres='Adventure|Children|Fantasy'),\n",
       " Row(movieId='3', title='Grumpier Old Men (1995)', genres='Comedy|Romance'),\n",
       " Row(movieId='4', title='Waiting to Exhale (1995)', genres='Comedy|Drama|Romance'),\n",
       " Row(movieId='5', title='Father of the Bride Part II (1995)', genres='Comedy')]"
      ]
     },
     "execution_count": 2,
     "metadata": {},
     "output_type": "execute_result"
    }
   ],
   "source": [
    "\n",
    "movies = spark.read\\\n",
    "  .format('org.apache.spark.sql.execution.datasources.csv.CSVFileFormat')\\\n",
    "  .option('header', 'true')\\\n",
    "  .load('movies_1.csv')\n",
    "movies.take(5)"
   ]
  },
  {
   "cell_type": "code",
   "execution_count": 3,
   "metadata": {},
   "outputs": [
    {
     "data": {
      "text/plain": [
       "[Row(userId='1', movieId='1', rating='4.0', timestamp='964982703'),\n",
       " Row(userId='1', movieId='3', rating='4.0', timestamp='964981247'),\n",
       " Row(userId='1', movieId='6', rating='4.0', timestamp='964982224'),\n",
       " Row(userId='1', movieId='47', rating='5.0', timestamp='964983815'),\n",
       " Row(userId='1', movieId='50', rating='5.0', timestamp='964982931')]"
      ]
     },
     "execution_count": 3,
     "metadata": {},
     "output_type": "execute_result"
    }
   ],
   "source": [
    "ratings = spark.read\\\n",
    "  .format('org.apache.spark.sql.execution.datasources.csv.CSVFileFormat')\\\n",
    "  .option('header', 'true')\\\n",
    "  .load('ratings_1.csv')\n",
    "ratings.take(5)"
   ]
  },
  {
   "cell_type": "code",
   "execution_count": 5,
   "metadata": {},
   "outputs": [
    {
     "name": "stdout",
     "output_type": "stream",
     "text": [
      "2.4.3\n"
     ]
    }
   ],
   "source": [
    "print (spark.version)"
   ]
  },
  {
   "cell_type": "code",
   "execution_count": 6,
   "metadata": {},
   "outputs": [
    {
     "name": "stdout",
     "output_type": "stream",
     "text": [
      "Number of partitions for the movies DataFrame: 1\n",
      "Number of partitions for the ratings DataFrame: 1\n"
     ]
    }
   ],
   "source": [
    "\n",
    "print (\"Numero de partiticiones para el  DataFrame de peliculas: \" + str(movies.rdd.getNumPartitions()))\n",
    "print (\"Numero de partiticiones para el  DataFrame de ratings: \" + str(ratings.rdd.getNumPartitions()))\n",
    "\n"
   ]
  },
  {
   "cell_type": "code",
   "execution_count": 7,
   "metadata": {},
   "outputs": [
    {
     "name": "stdout",
     "output_type": "stream",
     "text": [
      "Number of partitions for the ratings DataFrame: 1\n",
      "Number of partitions for the repartitionedRatings DataFrame: 10\n"
     ]
    }
   ],
   "source": [
    "repartitionedRatings = ratings.repartition(10)\n",
    "print (\"Numero de particiones para el  DataFrame ratings : \" + str(ratings.rdd.getNumPartitions()))\n",
    "print (\"Numero de particiones para el DataFrame repartitionedRatings : \" + str(repartitionedRatings.rdd.getNumPartitions()))\n"
   ]
  },
  {
   "cell_type": "code",
   "execution_count": 8,
   "metadata": {},
   "outputs": [
    {
     "name": "stdout",
     "output_type": "stream",
     "text": [
      "Number of ratings: 100836\n"
     ]
    }
   ],
   "source": [
    "print (\"Numero de ratings: \" + str(repartitionedRatings.count()))"
   ]
  },
  {
   "cell_type": "code",
   "execution_count": 9,
   "metadata": {},
   "outputs": [
    {
     "data": {
      "text/plain": [
       "DataFrame[userId: string, movieId: string, rating: string, timestamp: string]"
      ]
     },
     "execution_count": 9,
     "metadata": {},
     "output_type": "execute_result"
    }
   ],
   "source": [
    "repartitionedRatings.cache()"
   ]
  },
  {
   "cell_type": "code",
   "execution_count": 10,
   "metadata": {},
   "outputs": [
    {
     "name": "stdout",
     "output_type": "stream",
     "text": [
      "Number of ratings: 100836\n"
     ]
    }
   ],
   "source": [
    "print (\"Numero de ratings: \" + str(repartitionedRatings.count()))"
   ]
  },
  {
   "cell_type": "code",
   "execution_count": 10,
   "metadata": {},
   "outputs": [
    {
     "name": "stdout",
     "output_type": "stream",
     "text": [
      "+-------+-------------------------------------+-------------------------------------------+\n",
      "|movieId|title                                |genres                                     |\n",
      "+-------+-------------------------------------+-------------------------------------------+\n",
      "|1      |Toy Story (1995)                     |Adventure|Animation|Children|Comedy|Fantasy|\n",
      "|2      |Jumanji (1995)                       |Adventure|Children|Fantasy                 |\n",
      "|3      |Grumpier Old Men (1995)              |Comedy|Romance                             |\n",
      "|4      |Waiting to Exhale (1995)             |Comedy|Drama|Romance                       |\n",
      "|5      |Father of the Bride Part II (1995)   |Comedy                                     |\n",
      "|6      |Heat (1995)                          |Action|Crime|Thriller                      |\n",
      "|7      |Sabrina (1995)                       |Comedy|Romance                             |\n",
      "|8      |Tom and Huck (1995)                  |Adventure|Children                         |\n",
      "|9      |Sudden Death (1995)                  |Action                                     |\n",
      "|10     |GoldenEye (1995)                     |Action|Adventure|Thriller                  |\n",
      "|11     |American President, The (1995)       |Comedy|Drama|Romance                       |\n",
      "|12     |Dracula: Dead and Loving It (1995)   |Comedy|Horror                              |\n",
      "|13     |Balto (1995)                         |Adventure|Animation|Children               |\n",
      "|14     |Nixon (1995)                         |Drama                                      |\n",
      "|15     |Cutthroat Island (1995)              |Action|Adventure|Romance                   |\n",
      "|16     |Casino (1995)                        |Crime|Drama                                |\n",
      "|17     |Sense and Sensibility (1995)         |Drama|Romance                              |\n",
      "|18     |Four Rooms (1995)                    |Comedy                                     |\n",
      "|19     |Ace Ventura: When Nature Calls (1995)|Comedy                                     |\n",
      "|20     |Money Train (1995)                   |Action|Comedy|Crime|Drama|Thriller         |\n",
      "+-------+-------------------------------------+-------------------------------------------+\n",
      "only showing top 20 rows\n",
      "\n"
     ]
    }
   ],
   "source": [
    "\n",
    "movies.show(truncate=False)\n",
    "\n"
   ]
  },
  {
   "cell_type": "code",
   "execution_count": 11,
   "metadata": {},
   "outputs": [
    {
     "name": "stdout",
     "output_type": "stream",
     "text": [
      "root\n",
      " |-- movieId: string (nullable = true)\n",
      " |-- title: string (nullable = true)\n",
      " |-- genres: string (nullable = true)\n",
      "\n"
     ]
    }
   ],
   "source": [
    "movies.printSchema()"
   ]
  },
  {
   "cell_type": "code",
   "execution_count": 12,
   "metadata": {},
   "outputs": [],
   "source": [
    "movies_file_name = 'movies_1.csv'\n",
    "ratings_file_name = 'ratings_1.csv'\n",
    "\n",
    "movies = spark.read.csv(movies_file_name, header=True, inferSchema=True).repartition(10).cache()\n",
    "ratings = spark.read.csv(ratings_file_name, header=True, inferSchema=True).repartition(10).cache()"
   ]
  },
  {
   "cell_type": "code",
   "execution_count": 13,
   "metadata": {},
   "outputs": [
    {
     "name": "stdout",
     "output_type": "stream",
     "text": [
      "root\n",
      " |-- movieId: integer (nullable = true)\n",
      " |-- title: string (nullable = true)\n",
      " |-- genres: string (nullable = true)\n",
      "\n",
      "root\n",
      " |-- userId: integer (nullable = true)\n",
      " |-- movieId: integer (nullable = true)\n",
      " |-- rating: double (nullable = true)\n",
      " |-- timestamp: integer (nullable = true)\n",
      "\n"
     ]
    }
   ],
   "source": [
    "\n",
    "\n",
    "movies.printSchema()\n",
    "ratings.printSchema()\n",
    "\n"
   ]
  },
  {
   "cell_type": "code",
   "execution_count": 14,
   "metadata": {},
   "outputs": [
    {
     "name": "stdout",
     "output_type": "stream",
     "text": [
      "+-------+------------------+----------------+------------------+--------------------+\n",
      "|summary|            userId|         movieId|            rating|           timestamp|\n",
      "+-------+------------------+----------------+------------------+--------------------+\n",
      "|  count|            100836|          100836|            100836|              100836|\n",
      "|   mean|326.12756356856676|19435.2957177992| 3.501556983616962|1.2059460873684695E9|\n",
      "| stddev| 182.6184914634999|35530.9871987002|1.0425292390606344| 2.162610359951315E8|\n",
      "|    min|                 1|               1|               0.5|           828124615|\n",
      "|    max|               610|          193609|               5.0|          1537799250|\n",
      "+-------+------------------+----------------+------------------+--------------------+\n",
      "\n"
     ]
    }
   ],
   "source": [
    "ratings.describe().show()"
   ]
  },
  {
   "cell_type": "code",
   "execution_count": 17,
   "metadata": {},
   "outputs": [
    {
     "name": "stdout",
     "output_type": "stream",
     "text": [
      "Number of different users: 610\n",
      "Number of different movies: 9724\n",
      "Number of movies with at least one rating strictly higher than 4: 4056\n"
     ]
    }
   ],
   "source": [
    "\n",
    "\n",
    "print (\"Numero de usuarios diferentes: \" + str(ratings.select('userId').distinct().count()))\n",
    "print (\"Numero de peliculas diferentes: \" + str(ratings.select('movieId').distinct().count()))\n",
    "print (\"Número de peliculas con al menos una calificacion estrictamente superior a 4: \" + str(ratings.filter('rating > 4').select('movieId').distinct().count()))\n",
    "\n"
   ]
  },
  {
   "cell_type": "code",
   "execution_count": 18,
   "metadata": {},
   "outputs": [
    {
     "name": "stdout",
     "output_type": "stream",
     "text": [
      "+----+\n",
      "|  nb|\n",
      "+----+\n",
      "|4056|\n",
      "+----+\n",
      "\n"
     ]
    }
   ],
   "source": [
    "ratings.createOrReplaceTempView('ratings')\n",
    "spark.sql(\"SELECT COUNT(DISTINCT(movieId)) AS nb FROM ratings WHERE rating > 4\").show()"
   ]
  },
  {
   "cell_type": "code",
   "execution_count": 19,
   "metadata": {},
   "outputs": [
    {
     "data": {
      "text/plain": [
       "[Row(_c0='userId', _c1='movieId', _c2='rating', _c3='timestamp'),\n",
       " Row(_c0='1', _c1='1', _c2='4.0', _c3='964982703')]"
      ]
     },
     "execution_count": 19,
     "metadata": {},
     "output_type": "execute_result"
    }
   ],
   "source": [
    "ratings_url = ratings_file_name\n",
    "sql = \"SELECT * FROM csv.`\" + ratings_url + \"`\"\n",
    "spark.sql(sql).take(2)"
   ]
  },
  {
   "cell_type": "code",
   "execution_count": 20,
   "metadata": {},
   "outputs": [
    {
     "data": {
      "text/html": [
       "<div>\n",
       "<style scoped>\n",
       "    .dataframe tbody tr th:only-of-type {\n",
       "        vertical-align: middle;\n",
       "    }\n",
       "\n",
       "    .dataframe tbody tr th {\n",
       "        vertical-align: top;\n",
       "    }\n",
       "\n",
       "    .dataframe thead th {\n",
       "        text-align: right;\n",
       "    }\n",
       "</style>\n",
       "<table border=\"1\" class=\"dataframe\">\n",
       "  <thead>\n",
       "    <tr style=\"text-align: right;\">\n",
       "      <th></th>\n",
       "      <th>userId</th>\n",
       "      <th>movieId</th>\n",
       "      <th>rating</th>\n",
       "      <th>timestamp</th>\n",
       "    </tr>\n",
       "  </thead>\n",
       "  <tbody>\n",
       "    <tr>\n",
       "      <th>0</th>\n",
       "      <td>249</td>\n",
       "      <td>5803</td>\n",
       "      <td>3.0</td>\n",
       "      <td>1354225800</td>\n",
       "    </tr>\n",
       "    <tr>\n",
       "      <th>1</th>\n",
       "      <td>610</td>\n",
       "      <td>84772</td>\n",
       "      <td>3.5</td>\n",
       "      <td>1493846852</td>\n",
       "    </tr>\n",
       "    <tr>\n",
       "      <th>2</th>\n",
       "      <td>599</td>\n",
       "      <td>1982</td>\n",
       "      <td>3.0</td>\n",
       "      <td>1498524557</td>\n",
       "    </tr>\n",
       "    <tr>\n",
       "      <th>3</th>\n",
       "      <td>468</td>\n",
       "      <td>317</td>\n",
       "      <td>3.0</td>\n",
       "      <td>831400519</td>\n",
       "    </tr>\n",
       "    <tr>\n",
       "      <th>4</th>\n",
       "      <td>169</td>\n",
       "      <td>5873</td>\n",
       "      <td>4.5</td>\n",
       "      <td>1059429313</td>\n",
       "    </tr>\n",
       "  </tbody>\n",
       "</table>\n",
       "</div>"
      ],
      "text/plain": [
       "   userId  movieId  rating   timestamp\n",
       "0     249     5803     3.0  1354225800\n",
       "1     610    84772     3.5  1493846852\n",
       "2     599     1982     3.0  1498524557\n",
       "3     468      317     3.0   831400519\n",
       "4     169     5873     4.5  1059429313"
      ]
     },
     "execution_count": 20,
     "metadata": {},
     "output_type": "execute_result"
    }
   ],
   "source": [
    "import pandas as pd\n",
    "\n",
    "ratings.toPandas().head()\n"
   ]
  },
  {
   "cell_type": "code",
   "execution_count": 21,
   "metadata": {},
   "outputs": [
    {
     "data": {
      "text/plain": [
       "<seaborn.axisgrid.FacetGrid at 0x7f2b56626c88>"
      ]
     },
     "execution_count": 21,
     "metadata": {},
     "output_type": "execute_result"
    },
    {
     "data": {
      "image/png": "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
